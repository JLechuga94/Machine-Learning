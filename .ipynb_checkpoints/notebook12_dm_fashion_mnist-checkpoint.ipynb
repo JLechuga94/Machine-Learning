{
 "cells": [
  {
   "cell_type": "markdown",
   "metadata": {},
   "source": [
    "# Homework 1\n",
    "\n",
    "# A fashionable use case : clothing classification with `fashion-mnist`\n",
    "\n",
    "- Load data with `fashion_mnist.load_data()` \n",
    "- There is no validation set, only a train and test set. \n",
    "- The labels correspond to the following things\n",
    "\n",
    "| Label number | Label name  |\n",
    "|--------------|-------------|\n",
    "| 0\t           | T-shirt/top |\n",
    "| 1\t           | Trouser     |\n",
    "| 2\t           | Pullover    |\n",
    "| 3\t           | Dress       |\n",
    "| 4\t           | Coat        |\n",
    "| 5\t           | Sandal      |\n",
    "| 6\t           | Shirt       |\n",
    "| 7\t           | Sneaker     |\n",
    "| 8\t           | Bag         |\n",
    "| 9\t           | Ankle boot  |\n",
    "\n",
    "## Your job\n",
    "\n",
    "- Try to understand the data, visualize it, like we did before with MNIST and noMNIST\n",
    "- Create a neural network, using the ideas from before, that classify accurately the clothes on the test set\n",
    "- You will need to build a validation set from the train set in order to tune hyperparameters\n",
    "\n",
    "## We want to see the following things\n",
    "\n",
    "- Some learning curves (training) and the accuracy obtained on the test set for the architecture you considered\n",
    "- A discussion about the impact of the hyperparameters on the accuracy (size of the kernels, number of kernels, number of layers, etc.) \n",
    "- A clear comparison between your solutions (a table, or plots comparing the results obtained with different hyper-parameters and different architectures)\n",
    "- An explanation of what kind of clothes are hard to distinguish and why (some visual explanation)\n",
    "- You'll get a good grade if you reach a good accuracy **and** if your notebook is clean, with clear graphs and explanations of what you did **and** if you did serious comparisons between different architectures\n",
    "- You can do everything on your laptop, but it might be a good idea to use google `colab` (https://colab.research.google.com/) to get free access to a GPU\n",
    "- You will send your notebook **containing** the results (**WE WON'T RUN YOUR NOTEBOOK**), namely with the graphs and results that you want to show, as a **unique** jupyter notebook file (`.ipynb` extension). We won't open any other supplementary file.\n",
    "\n",
    "## Send your work using the following google form :\n",
    "\n",
    "- https://forms.gle/G3Rwfcuj3MZfgXhr8\n",
    "\n",
    "(you will need to create a google account if you don't have one).\n",
    "\n",
    "## Example of architecture\n",
    "\n",
    "As a start, you can use the following architecture (but you can and will change it) :\n",
    "\n",
    "- Convolutional layer with 64 filters and 5 * 5 kernel sizes and 'relu' activation\n",
    "- Max pooling with pool size 2 * 2\n",
    "- Dropout with probability 0.25\n",
    "\n",
    "- Convolutional layer with 128 filters and 5 * 5 kernel sizes and 'relu' activation\n",
    "- Max pooling with pool size 2 * 2\n",
    "- Dropout with probability 0.25\n",
    "\n",
    "- Convolutional layer with 256 filters and 3 * 3 kernel sizes and 'relu' activation\n",
    "- Max pooling with pool size 2 * 2\n",
    "- Dropout with probability 0.25\n",
    "\n",
    "- Dense layer with 256 units\n",
    "- Dropout with probability 0.5\n",
    "- Dense output layer with softmax activation"
   ]
  },
  {
   "cell_type": "code",
   "execution_count": 1,
   "metadata": {},
   "outputs": [],
   "source": [
    "#importing libraries\n",
    "import tensorflow as tf\n",
    "import numpy as np\n",
    "import pandas as pd\n",
    "import matplotlib.pyplot as plt\n",
    "\n",
    "from numpy import mean\n",
    "from numpy import std\n",
    "from sklearn.model_selection import KFold\n",
    "from keras.datasets import fashion_mnist\n",
    "from keras.utils import to_categorical\n",
    "from keras.models import Sequential\n",
    "from keras.layers import Conv2D\n",
    "from keras.layers import MaxPooling2D\n",
    "from keras.layers import Dense\n",
    "from keras.layers import Flatten\n",
    "from keras.layers import Dropout\n",
    "from keras.preprocessing import image\n",
    "from keras.optimizers import SGD"
   ]
  },
  {
   "cell_type": "code",
   "execution_count": 33,
   "metadata": {},
   "outputs": [],
   "source": [
    "# Loading of fashion_mnist dataset, creation of list for dataset string labels\n",
    "(train_images, train_labels), (test_images, test_labels) = fashion_mnist.load_data()\n",
    "class_names = ['T-shirt/top', 'Trouser', 'Pullover', 'Dress', 'Coat','Sandal', 'Shirt',\n",
    "               'Sneaker', 'Bag', 'Ankle boot']"
   ]
  },
  {
   "cell_type": "markdown",
   "metadata": {},
   "source": [
    "### The MNIST Fashion dataset contains 70,000 images. 60,000 are used in the training set and 10,000 in the testing set. "
   ]
  },
  {
   "cell_type": "code",
   "execution_count": 34,
   "metadata": {},
   "outputs": [
    {
     "name": "stdout",
     "output_type": "stream",
     "text": [
      "Train set: X = (60000, 28, 28), y = (60000,)\n",
      "\n",
      "\n",
      "Test set: X = (10000, 28, 28), y = (10000,)\n"
     ]
    }
   ],
   "source": [
    "# Analysis of shape of datasets\n",
    "print('Train set: X = %s, y = %s' % (train_images.shape, train_labels.shape))\n",
    "print(\"\\n\")\n",
    "print('Test set: X = %s, y = %s' % (test_images.shape, test_labels.shape))"
   ]
  },
  {
   "cell_type": "markdown",
   "metadata": {},
   "source": [
    "### By displaying one example of the train images, we see that the pixel values range from 0 to 255. Before we can start training any model we need to normalize the pixel values to a range of 0 to 1"
   ]
  },
  {
   "cell_type": "code",
   "execution_count": 35,
   "metadata": {},
   "outputs": [
    {
     "data": {
      "image/png": "[encoded data removed]",
      "text/plain": [
       "<Figure size 432x288 with 2 Axes>"
      ]
     },
     "metadata": {
      "needs_background": "light"
     },
     "output_type": "display_data"
    },
    {
     "name": "stdout",
     "output_type": "stream",
     "text": [
      "Label for training example # 100: Bag\n"
     ]
    }
   ],
   "source": [
    "selected_ex = 100\n",
    "plt.figure()\n",
    "plt.imshow(train_images[selected_ex])\n",
    "plt.colorbar()\n",
    "plt.grid(False)\n",
    "plt.show()\n",
    "#This is a bag so should be type 8\n",
    "print(\"Label for training example # %i: %s\" %(selected_ex, class_names[train_labels[selected_ex]]))"
   ]
  },
  {
   "cell_type": "code",
   "execution_count": 36,
   "metadata": {},
   "outputs": [],
   "source": [
    "# Normalization of pixel values of images from 0-255 to 0-1\n",
    "\n",
    "def pixel_normalization(train, test):\n",
    "    # convert from integers to floats\n",
    "    train_norm = train.astype('float32')\n",
    "    test_norm = test.astype('float32')\n",
    "    # normalize to range 0-1\n",
    "    train_norm = train_norm / 255.0\n",
    "    test_norm = test_norm / 255.0\n",
    "    # return normalized images\n",
    "    return train_norm, test_norm\n",
    "\n",
    "train_images, test_images = pixel_normalization(train_images, test_images)"
   ]
  },
  {
   "cell_type": "code",
   "execution_count": 37,
   "metadata": {},
   "outputs": [
    {
     "data": {
      "image/png": "[encoded data removed]",
      "text/plain": [
       "<Figure size 720x720 with 25 Axes>"
      ]
     },
     "metadata": {},
     "output_type": "display_data"
    }
   ],
   "source": [
    "# Display of first 25 items in the dataset\n",
    "\n",
    "plt.figure(figsize=(10,10))\n",
    "for i in range(25):\n",
    "    plt.subplot(5,5,i+1)\n",
    "    plt.xticks([])\n",
    "    plt.yticks([])\n",
    "    plt.grid(False)\n",
    "    plt.imshow(train_images[i], cmap=plt.cm.binary)\n",
    "    plt.xlabel(class_names[train_labels[i]])\n",
    "plt.show()"
   ]
  },
  {
   "cell_type": "code",
   "execution_count": 38,
   "metadata": {},
   "outputs": [],
   "source": [
    "# Reshaping of dataset to use only one color channel and be able to train a model\n",
    "\n",
    "def dataset_reshape(trainX, trainY, testX, testY):\n",
    "    # reshape dataset to have a single color channel as they are greyscale\n",
    "    trainX = trainX.reshape((trainX.shape[0], 28, 28, 1))\n",
    "    testX = testX.reshape((testX.shape[0], 28, 28, 1))\n",
    "    \n",
    "    # one hot encode target values for labelling\n",
    "    trainY = to_categorical(trainY)\n",
    "    testY = to_categorical(testY)\n",
    "    return trainX, trainY, testX, testY\n",
    "\n",
    "train_images, train_labels, test_images, test_labels = dataset_reshape(train_images, \n",
    "                                                                       train_labels, \n",
    "                                                                       test_images,\n",
    "                                                                       test_labels) \n"
   ]
  },
  {
   "cell_type": "markdown",
   "metadata": {},
   "source": [
    "# CNN Models"
   ]
  },
  {
   "cell_type": "raw",
   "metadata": {},
   "source": [
    "Convolutional layer with 64 filters and 5 * 5 kernel sizes and 'relu' activation\n",
    "\n",
    "Max pooling with pool size 2 * 2\n",
    "\n",
    "Dropout with probability 0.25\n",
    "\n",
    "Convolutional layer with 128 filters and 5 * 5 kernel sizes and 'relu' activation\n",
    "\n",
    "Max pooling with pool size 2 * 2\n",
    "\n",
    "Dropout with probability 0.25\n",
    "\n",
    "Convolutional layer with 256 filters and 3 * 3 kernel sizes and 'relu' activation\n",
    "\n",
    "Max pooling with pool size 2 * 2\n",
    "\n",
    "Dropout with probability 0.25\n",
    "\n",
    "Dense layer with 256 units\n",
    "\n",
    "Dropout with probability 0.5\n",
    "\n",
    "Dense output layer with softmax activation"
   ]
  },
  {
   "cell_type": "code",
   "execution_count": 8,
   "metadata": {},
   "outputs": [],
   "source": [
    "#defining the model\n",
    "\n",
    "def define_model1():\n",
    "    model = Sequential()\n",
    "    model.add(Conv2D(64, (5, 5), activation='relu', kernel_initializer='he_uniform', input_shape=(28, 28, 1)))\n",
    "    model.add(MaxPooling2D((2, 2)))\n",
    "    #model.add(Dropout(0.25))\n",
    "    model.add(Flatten())\n",
    "    #model.add(Dropout(0.25))\n",
    "    #model.add(Dense(256, activation='relu', kernel_initializer='he_uniform'))\n",
    "    #model.add(Dropout(0.5))\n",
    "    model.add(Dense(10, activation='softmax'))\n",
    "    \n",
    "    # compile model\n",
    "    opt = SGD(lr=0.01, momentum=0.9)\n",
    "    model.compile(optimizer=opt, loss='categorical_crossentropy', metrics=['accuracy'])\n",
    "    return model\n",
    "\n",
    "# define cnn model\n",
    "def define_model():\n",
    "\tmodel = Sequential()\n",
    "\tmodel.add(Conv2D(32, (3, 3), activation='relu', kernel_initializer='he_uniform', input_shape=(28, 28, 1)))\n",
    "\tmodel.add(MaxPooling2D((2, 2)))\n",
    "\tmodel.add(Flatten())\n",
    "\tmodel.add(Dense(100, activation='relu', kernel_initializer='he_uniform'))\n",
    "\tmodel.add(Dense(10, activation='softmax'))\n",
    "\t# compile model\n",
    "\topt = SGD(lr=0.01, momentum=0.9)\n",
    "\tmodel.compile(optimizer=opt, loss='categorical_crossentropy', metrics=['accuracy'])\n",
    "\treturn model\n"
   ]
  },
  {
   "cell_type": "code",
   "execution_count": 9,
   "metadata": {},
   "outputs": [],
   "source": [
    "model1 = model1()"
   ]
  },
  {
   "cell_type": "code",
   "execution_count": 10,
   "metadata": {},
   "outputs": [
    {
     "name": "stdout",
     "output_type": "stream",
     "text": [
      "Epoch 1/10\n",
      "1500/1500 [==============================] - 21s 14ms/step - loss: 0.4433 - accuracy: 0.8524 - val_loss: 0.3338 - val_accuracy: 0.8849\n",
      "Epoch 2/10\n",
      "1500/1500 [==============================] - 21s 14ms/step - loss: 0.3010 - accuracy: 0.8942 - val_loss: 0.3107 - val_accuracy: 0.8890\n",
      "Epoch 3/10\n",
      "1500/1500 [==============================] - 21s 14ms/step - loss: 0.2681 - accuracy: 0.9053 - val_loss: 0.2755 - val_accuracy: 0.9022\n",
      "Epoch 4/10\n",
      "1500/1500 [==============================] - 21s 14ms/step - loss: 0.2433 - accuracy: 0.9140 - val_loss: 0.2703 - val_accuracy: 0.9017\n",
      "Epoch 5/10\n",
      "1500/1500 [==============================] - 21s 14ms/step - loss: 0.2274 - accuracy: 0.9186 - val_loss: 0.2987 - val_accuracy: 0.8932\n",
      "Epoch 6/10\n",
      "1500/1500 [==============================] - 21s 14ms/step - loss: 0.2142 - accuracy: 0.9239 - val_loss: 0.2821 - val_accuracy: 0.8980\n",
      "Epoch 7/10\n",
      "1500/1500 [==============================] - 21s 14ms/step - loss: 0.1997 - accuracy: 0.9286 - val_loss: 0.2788 - val_accuracy: 0.8969\n",
      "Epoch 8/10\n",
      "1500/1500 [==============================] - 21s 14ms/step - loss: 0.1890 - accuracy: 0.9331 - val_loss: 0.2634 - val_accuracy: 0.9040\n",
      "Epoch 9/10\n",
      "1500/1500 [==============================] - 21s 14ms/step - loss: 0.1780 - accuracy: 0.9373 - val_loss: 0.2882 - val_accuracy: 0.8983\n",
      "Epoch 10/10\n",
      "1500/1500 [==============================] - 21s 14ms/step - loss: 0.1725 - accuracy: 0.9389 - val_loss: 0.2821 - val_accuracy: 0.9017\n"
     ]
    }
   ],
   "source": [
    "modelhistory = model.fit(train_images, train_labels, epochs=10, validation_split=0.2, shuffle=True)"
   ]
  },
  {
   "cell_type": "code",
   "execution_count": 11,
   "metadata": {},
   "outputs": [],
   "source": [
    "#hopefully saves model\n",
    "model1.save('finalmodel1.h5')"
   ]
  },
  {
   "cell_type": "markdown",
   "metadata": {},
   "source": [
    "# Accuracy and loss graph"
   ]
  },
  {
   "cell_type": "code",
   "execution_count": 12,
   "metadata": {},
   "outputs": [
    {
     "data": {
      "image/png": "[encoded data removed]",
      "text/plain": [
       "<Figure size 432x288 with 1 Axes>"
      ]
     },
     "metadata": {},
     "output_type": "display_data"
    }
   ],
   "source": [
    "#display the accuracy on the train and validation set\n",
    "plt.plot(modelhistory.history['accuracy'])\n",
    "plt.plot(modelhistory.history['val_accuracy'])\n",
    "plt.title('model accuracy')\n",
    "plt.ylabel('accuracy')\n",
    "plt.xlabel('epoch')\n",
    "plt.legend(['train', 'test'], loc='upper left')\n",
    "plt.show()"
   ]
  },
  {
   "cell_type": "code",
   "execution_count": 13,
   "metadata": {},
   "outputs": [
    {
     "data": {
      "image/png": "[encoded data removed]",
      "text/plain": [
       "<Figure size 432x288 with 1 Axes>"
      ]
     },
     "metadata": {},
     "output_type": "display_data"
    }
   ],
   "source": [
    "#displays the loss on the training and validation set\n",
    "plt.plot(modelhistory.history['loss'])\n",
    "plt.plot(modelhistory.history['val_loss'])\n",
    "plt.title('model loss')\n",
    "plt.ylabel('loss')\n",
    "plt.xlabel('epoch')\n",
    "plt.legend(['train', 'test'], loc='upper left')\n",
    "plt.show()"
   ]
  },
  {
   "cell_type": "markdown",
   "metadata": {},
   "source": [
    "Even though on the training set the accuracy is very good, on the training set it goes up and then stagnates around the third epoch which means that we have overfitted our model!"
   ]
  },
  {
   "cell_type": "markdown",
   "metadata": {},
   "source": [
    "# Accuracy"
   ]
  },
  {
   "cell_type": "code",
   "execution_count": 14,
   "metadata": {},
   "outputs": [
    {
     "name": "stdout",
     "output_type": "stream",
     "text": [
      "313/313 - 1s - loss: 0.2986 - accuracy: 0.8978\n",
      "\n",
      "Test accuracy: 0.8978000283241272\n"
     ]
    }
   ],
   "source": [
    "#Looking at accuracy on the test dataset\n",
    "\n",
    "test_loss, test_acc = model.evaluate(test_images,  test_labels, verbose=2)\n",
    "\n",
    "print('\\nTest accuracy:', test_acc)"
   ]
  },
  {
   "cell_type": "markdown",
   "metadata": {},
   "source": [
    "# Predictions"
   ]
  },
  {
   "cell_type": "code",
   "execution_count": 15,
   "metadata": {},
   "outputs": [
    {
     "name": "stdout",
     "output_type": "stream",
     "text": [
      "Label number: 3 \n",
      " Certainty: 0.99983764\n"
     ]
    }
   ],
   "source": [
    "#seeing if the 300th image is correctly predicted in the test set\n",
    "img = test_images[300]\n",
    "img = img.reshape(1, 28, 28, 1)\n",
    "result =model.predict(img)\n",
    "print(\"Label number:\", np.argmax(result),\"\\n\",\"Certainty:\",np.max(result))"
   ]
  },
  {
   "cell_type": "code",
   "execution_count": 16,
   "metadata": {},
   "outputs": [
    {
     "data": {
      "text/plain": [
       "3"
      ]
     },
     "execution_count": 16,
     "metadata": {},
     "output_type": "execute_result"
    }
   ],
   "source": [
    "np.argmax(test_labels[300])"
   ]
  },
  {
   "cell_type": "markdown",
   "metadata": {},
   "source": [
    "So here the prediction is correct"
   ]
  },
  {
   "cell_type": "code",
   "execution_count": 17,
   "metadata": {},
   "outputs": [
    {
     "data": {
      "text/plain": [
       "(28, 28, 1)"
      ]
     },
     "execution_count": 17,
     "metadata": {},
     "output_type": "execute_result"
    }
   ],
   "source": [
    "test_images[1].shape"
   ]
  },
  {
   "cell_type": "code",
   "execution_count": 18,
   "metadata": {},
   "outputs": [],
   "source": [
    "#all predicted labels in test set\n",
    "\n",
    "a = []\n",
    "for i in range(len(test_images)):\n",
    "    img = test_images[i]\n",
    "    img = img.reshape(1,28,28,1)\n",
    "    result =model.predict(img)\n",
    "    a.append(np.argmax(result))"
   ]
  },
  {
   "cell_type": "markdown",
   "metadata": {},
   "source": [
    "# What clothes are hard to distinguish"
   ]
  },
  {
   "cell_type": "code",
   "execution_count": 19,
   "metadata": {},
   "outputs": [],
   "source": [
    "#all actual labels in test set\n",
    "b = []\n",
    "for i in range(len(test_labels)):\n",
    "    result = test_labels[i]\n",
    "    b.append(np.argmax(result))\n",
    "     "
   ]
  },
  {
   "cell_type": "code",
   "execution_count": 20,
   "metadata": {},
   "outputs": [],
   "source": [
    "#c is an array of incorrect predictions and d is an array of the labels that were not predicted correctly\n",
    "c = []\n",
    "d = []\n",
    "\n",
    "for i in range(len(a)):\n",
    "    if a[i]!=b[i]:\n",
    "        c.append(a[i])\n",
    "        d.append(b[i])\n",
    "\n",
    "#pairs is just turning the two arrays c and d into 1 in order to count the occurrences\n",
    "pairs = np.column_stack((c, d))\n",
    "pairs = pairs.tolist()"
   ]
  },
  {
   "cell_type": "code",
   "execution_count": 21,
   "metadata": {},
   "outputs": [
    {
     "name": "stdout",
     "output_type": "stream",
     "text": [
      "Bad pred 0 Label not pred correctly 0 Error frequency 0\n",
      "Bad pred 0 Label not pred correctly 1 Error frequency 1\n",
      "Bad pred 0 Label not pred correctly 2 Error frequency 25\n",
      "Bad pred 0 Label not pred correctly 3 Error frequency 13\n",
      "Bad pred 0 Label not pred correctly 4 Error frequency 2\n",
      "Bad pred 0 Label not pred correctly 5 Error frequency 0\n",
      "Bad pred 0 Label not pred correctly 6 Error frequency 138\n",
      "Bad pred 0 Label not pred correctly 7 Error frequency 0\n",
      "Bad pred 0 Label not pred correctly 8 Error frequency 4\n",
      "Bad pred 0 Label not pred correctly 9 Error frequency 0\n",
      "Bad pred 1 Label not pred correctly 0 Error frequency 3\n",
      "Bad pred 1 Label not pred correctly 1 Error frequency 0\n",
      "Bad pred 1 Label not pred correctly 2 Error frequency 1\n",
      "Bad pred 1 Label not pred correctly 3 Error frequency 6\n",
      "Bad pred 1 Label not pred correctly 4 Error frequency 1\n",
      "Bad pred 1 Label not pred correctly 5 Error frequency 0\n",
      "Bad pred 1 Label not pred correctly 6 Error frequency 1\n",
      "Bad pred 1 Label not pred correctly 7 Error frequency 0\n",
      "Bad pred 1 Label not pred correctly 8 Error frequency 1\n",
      "Bad pred 1 Label not pred correctly 9 Error frequency 0\n",
      "Bad pred 2 Label not pred correctly 0 Error frequency 13\n",
      "Bad pred 2 Label not pred correctly 1 Error frequency 0\n",
      "Bad pred 2 Label not pred correctly 2 Error frequency 0\n",
      "Bad pred 2 Label not pred correctly 3 Error frequency 7\n",
      "Bad pred 2 Label not pred correctly 4 Error frequency 20\n",
      "Bad pred 2 Label not pred correctly 5 Error frequency 0\n",
      "Bad pred 2 Label not pred correctly 6 Error frequency 53\n",
      "Bad pred 2 Label not pred correctly 7 Error frequency 0\n",
      "Bad pred 2 Label not pred correctly 8 Error frequency 1\n",
      "Bad pred 2 Label not pred correctly 9 Error frequency 0\n",
      "Bad pred 3 Label not pred correctly 0 Error frequency 43\n",
      "Bad pred 3 Label not pred correctly 1 Error frequency 10\n",
      "Bad pred 3 Label not pred correctly 2 Error frequency 10\n",
      "Bad pred 3 Label not pred correctly 3 Error frequency 0\n",
      "Bad pred 3 Label not pred correctly 4 Error frequency 34\n",
      "Bad pred 3 Label not pred correctly 5 Error frequency 0\n",
      "Bad pred 3 Label not pred correctly 6 Error frequency 40\n",
      "Bad pred 3 Label not pred correctly 7 Error frequency 0\n",
      "Bad pred 3 Label not pred correctly 8 Error frequency 5\n",
      "Bad pred 3 Label not pred correctly 9 Error frequency 0\n",
      "Bad pred 4 Label not pred correctly 0 Error frequency 5\n",
      "Bad pred 4 Label not pred correctly 1 Error frequency 7\n",
      "Bad pred 4 Label not pred correctly 2 Error frequency 159\n",
      "Bad pred 4 Label not pred correctly 3 Error frequency 21\n",
      "Bad pred 4 Label not pred correctly 4 Error frequency 0\n",
      "Bad pred 4 Label not pred correctly 5 Error frequency 0\n",
      "Bad pred 4 Label not pred correctly 6 Error frequency 126\n",
      "Bad pred 4 Label not pred correctly 7 Error frequency 0\n",
      "Bad pred 4 Label not pred correctly 8 Error frequency 2\n",
      "Bad pred 4 Label not pred correctly 9 Error frequency 0\n",
      "Bad pred 5 Label not pred correctly 0 Error frequency 0\n",
      "Bad pred 5 Label not pred correctly 1 Error frequency 0\n",
      "Bad pred 5 Label not pred correctly 2 Error frequency 0\n",
      "Bad pred 5 Label not pred correctly 3 Error frequency 0\n",
      "Bad pred 5 Label not pred correctly 4 Error frequency 0\n",
      "Bad pred 5 Label not pred correctly 5 Error frequency 0\n",
      "Bad pred 5 Label not pred correctly 6 Error frequency 0\n",
      "Bad pred 5 Label not pred correctly 7 Error frequency 5\n",
      "Bad pred 5 Label not pred correctly 8 Error frequency 2\n",
      "Bad pred 5 Label not pred correctly 9 Error frequency 5\n",
      "Bad pred 6 Label not pred correctly 0 Error frequency 65\n",
      "Bad pred 6 Label not pred correctly 1 Error frequency 1\n",
      "Bad pred 6 Label not pred correctly 2 Error frequency 50\n",
      "Bad pred 6 Label not pred correctly 3 Error frequency 13\n",
      "Bad pred 6 Label not pred correctly 4 Error frequency 24\n",
      "Bad pred 6 Label not pred correctly 5 Error frequency 0\n",
      "Bad pred 6 Label not pred correctly 6 Error frequency 0\n",
      "Bad pred 6 Label not pred correctly 7 Error frequency 0\n",
      "Bad pred 6 Label not pred correctly 8 Error frequency 4\n",
      "Bad pred 6 Label not pred correctly 9 Error frequency 0\n",
      "Bad pred 7 Label not pred correctly 0 Error frequency 0\n",
      "Bad pred 7 Label not pred correctly 1 Error frequency 0\n",
      "Bad pred 7 Label not pred correctly 2 Error frequency 0\n",
      "Bad pred 7 Label not pred correctly 3 Error frequency 0\n",
      "Bad pred 7 Label not pred correctly 4 Error frequency 0\n",
      "Bad pred 7 Label not pred correctly 5 Error frequency 18\n",
      "Bad pred 7 Label not pred correctly 6 Error frequency 0\n",
      "Bad pred 7 Label not pred correctly 7 Error frequency 0\n",
      "Bad pred 7 Label not pred correctly 8 Error frequency 5\n",
      "Bad pred 7 Label not pred correctly 9 Error frequency 29\n",
      "Bad pred 8 Label not pred correctly 0 Error frequency 7\n",
      "Bad pred 8 Label not pred correctly 1 Error frequency 1\n",
      "Bad pred 8 Label not pred correctly 2 Error frequency 0\n",
      "Bad pred 8 Label not pred correctly 3 Error frequency 0\n",
      "Bad pred 8 Label not pred correctly 4 Error frequency 1\n",
      "Bad pred 8 Label not pred correctly 5 Error frequency 2\n",
      "Bad pred 8 Label not pred correctly 6 Error frequency 7\n",
      "Bad pred 8 Label not pred correctly 7 Error frequency 0\n",
      "Bad pred 8 Label not pred correctly 8 Error frequency 0\n",
      "Bad pred 8 Label not pred correctly 9 Error frequency 1\n",
      "Bad pred 9 Label not pred correctly 0 Error frequency 0\n",
      "Bad pred 9 Label not pred correctly 1 Error frequency 0\n",
      "Bad pred 9 Label not pred correctly 2 Error frequency 0\n",
      "Bad pred 9 Label not pred correctly 3 Error frequency 0\n",
      "Bad pred 9 Label not pred correctly 4 Error frequency 0\n",
      "Bad pred 9 Label not pred correctly 5 Error frequency 16\n",
      "Bad pred 9 Label not pred correctly 6 Error frequency 0\n",
      "Bad pred 9 Label not pred correctly 7 Error frequency 14\n",
      "Bad pred 9 Label not pred correctly 8 Error frequency 0\n",
      "Bad pred 9 Label not pred correctly 9 Error frequency 0\n"
     ]
    }
   ],
   "source": [
    "#need to fix this but basically this shows the frequency of what is incorrectly predicted instead of what should be\n",
    "for i in range(10):\n",
    "    for j in range(10):\n",
    "        print(\"Bad pred\",i,\"Label not pred correctly\",j,\"Error frequency\",pairs.count([i,j]))"
   ]
  },
  {
   "cell_type": "code",
   "execution_count": 22,
   "metadata": {},
   "outputs": [],
   "source": [
    "#maybe do graph instead of printing ^"
   ]
  },
  {
   "cell_type": "markdown",
   "metadata": {},
   "source": [
    "This means that the most often errors are that Label 6 is predicted instead of a Label 0 (155 occurrences)(Shirt instead of a T-shirt/top), that Label 4 is predicted instead of a Label 2 (143 occurrences) (Coat instead of pullover) and Label 6 instead of a Label 2 (125 occurrences) (Shirt instead of pullover)."
   ]
  },
  {
   "cell_type": "code",
   "execution_count": 23,
   "metadata": {},
   "outputs": [],
   "source": [
    "#show examples (photos) of these three most common classification errors"
   ]
  }
 ],
 "metadata": {
  "anaconda-cloud": {},
  "kernelspec": {
   "display_name": "Python 3",
   "language": "python",
   "name": "python3"
  },
  "language_info": {
   "codemirror_mode": {
    "name": "ipython",
    "version": 3
   },
   "file_extension": ".py",
   "mimetype": "text/x-python",
   "name": "python",
   "nbconvert_exporter": "python",
   "pygments_lexer": "ipython3",
   "version": "3.8.3"
  },
  "toc": {
   "base_numbering": 1,
   "nav_menu": {},
   "number_sections": true,
   "sideBar": true,
   "skip_h1_title": false,
   "title_cell": "Table of Contents",
   "title_sidebar": "Contents",
   "toc_cell": false,
   "toc_position": {},
   "toc_section_display": true,
   "toc_window_display": false
  }
 },
 "nbformat": 4,
 "nbformat_minor": 2
}
